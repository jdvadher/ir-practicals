{
  "nbformat": 4,
  "nbformat_minor": 0,
  "metadata": {
    "colab": {
      "name": "Pr2: Pyterrier.ipynb",
      "provenance": [],
      "toc_visible": true
    },
    "kernelspec": {
      "name": "python3",
      "display_name": "Python 3"
    }
  },
  "cells": [
    {
      "cell_type": "code",
      "metadata": {
        "colab": {
          "base_uri": "https://localhost:8080/"
        },
        "id": "HO7pxtZw9gvD",
        "outputId": "33142e9e-4451-4192-8a6b-c8c62c27d48c"
      },
      "source": [
        "!pip install python-terrier\n",
        "!pip install --upgrade git+https://github.com/terrier-org/pyterrier.git#egg=python-terrier"
      ],
      "execution_count": null,
      "outputs": [
        {
          "output_type": "stream",
          "text": [
            "Collecting python-terrier\n",
            "\u001b[?25l  Downloading https://files.pythonhosted.org/packages/6b/5d/dc47e86714bb4e13399e190aa2bdcc6aadc26563124cb865c0bea0c47902/python-terrier-0.4.0.tar.gz (70kB)\n",
            "\r\u001b[K     |████▋                           | 10kB 14.3MB/s eta 0:00:01\r\u001b[K     |█████████▎                      | 20kB 12.5MB/s eta 0:00:01\r\u001b[K     |██████████████                  | 30kB 9.7MB/s eta 0:00:01\r\u001b[K     |██████████████████▌             | 40kB 8.4MB/s eta 0:00:01\r\u001b[K     |███████████████████████▏        | 51kB 5.1MB/s eta 0:00:01\r\u001b[K     |███████████████████████████▉    | 61kB 5.7MB/s eta 0:00:01\r\u001b[K     |████████████████████████████████| 71kB 3.6MB/s \n",
            "\u001b[?25hRequirement already satisfied: numpy in /usr/local/lib/python3.7/dist-packages (from python-terrier) (1.19.5)\n",
            "Requirement already satisfied: pandas in /usr/local/lib/python3.7/dist-packages (from python-terrier) (1.1.5)\n",
            "Collecting wget\n",
            "  Downloading https://files.pythonhosted.org/packages/47/6a/62e288da7bcda82b935ff0c6cfe542970f04e29c756b0e147251b2fb251f/wget-3.2.zip\n",
            "Collecting pytrec_eval>=0.5\n",
            "  Downloading https://files.pythonhosted.org/packages/2e/03/e6e84df6a7c1265579ab26bbe30ff7f8c22745aa77e0799bba471c0a3a19/pytrec_eval-0.5.tar.gz\n",
            "Requirement already satisfied: tqdm in /usr/local/lib/python3.7/dist-packages (from python-terrier) (4.41.1)\n",
            "Collecting pyjnius~=1.3.0\n",
            "\u001b[?25l  Downloading https://files.pythonhosted.org/packages/ea/b1/e33db12a20efe28b20fbcf4efc9b95a934954587cd7aa5998987a22e8885/pyjnius-1.3.0-cp37-cp37m-manylinux2010_x86_64.whl (1.1MB)\n",
            "\u001b[K     |████████████████████████████████| 1.1MB 8.2MB/s \n",
            "\u001b[?25hCollecting matchpy\n",
            "\u001b[?25l  Downloading https://files.pythonhosted.org/packages/2a/25/6b8fa5846476c2d56856a4926fda859b218656b14571ace76fbcd1d39986/matchpy-0.5.4-py3-none-any.whl (69kB)\n",
            "\u001b[K     |████████████████████████████████| 71kB 5.9MB/s \n",
            "\u001b[?25hRequirement already satisfied: sklearn in /usr/local/lib/python3.7/dist-packages (from python-terrier) (0.0)\n",
            "Collecting deprecation\n",
            "  Downloading https://files.pythonhosted.org/packages/02/c3/253a89ee03fc9b9682f1541728eb66db7db22148cd94f89ab22528cd1e1b/deprecation-2.1.0-py2.py3-none-any.whl\n",
            "Collecting chest\n",
            "  Downloading https://files.pythonhosted.org/packages/18/66/b883b9a26cd2f777dd04b7eedc842d31ea1567b7709b049d46eca418501e/chest-0.2.3.tar.gz\n",
            "Requirement already satisfied: scipy in /usr/local/lib/python3.7/dist-packages (from python-terrier) (1.4.1)\n",
            "Requirement already satisfied: requests in /usr/local/lib/python3.7/dist-packages (from python-terrier) (2.23.0)\n",
            "Collecting nptyping\n",
            "  Downloading https://files.pythonhosted.org/packages/f1/1e/1af177efdf368b65831ea999e0a68f5320f8009f28dbc1a46db091ffdb24/nptyping-1.4.0-py3-none-any.whl\n",
            "Requirement already satisfied: tabulate in /usr/local/lib/python3.7/dist-packages (from python-terrier) (0.8.9)\n",
            "Requirement already satisfied: jinja2 in /usr/local/lib/python3.7/dist-packages (from python-terrier) (2.11.3)\n",
            "Collecting sphinx_rtd_theme\n",
            "\u001b[?25l  Downloading https://files.pythonhosted.org/packages/76/81/d5af3a50a45ee4311ac2dac5b599d69f68388401c7a4ca902e0e450a9f94/sphinx_rtd_theme-0.5.1-py2.py3-none-any.whl (2.8MB)\n",
            "\u001b[K     |████████████████████████████████| 2.8MB 17.6MB/s \n",
            "\u001b[?25hRequirement already satisfied: more_itertools in /usr/local/lib/python3.7/dist-packages (from python-terrier) (8.7.0)\n",
            "Collecting myst_parser\n",
            "\u001b[?25l  Downloading https://files.pythonhosted.org/packages/87/bc/810dd8c332a4fc76ce4ea6246b0b61799ef97e4bcb1d532cd3df602806cd/myst_parser-0.13.5-py3-none-any.whl (44kB)\n",
            "\u001b[K     |████████████████████████████████| 51kB 5.5MB/s \n",
            "\u001b[?25hCollecting ir_datasets>=0.2.0\n",
            "\u001b[?25l  Downloading https://files.pythonhosted.org/packages/71/40/fa2f34523dd975d821076bbd1df6bbef7c9ad7fcd379ac04e5ec3fec9cfb/ir_datasets-0.3.1-py3-none-any.whl (160kB)\n",
            "\u001b[K     |████████████████████████████████| 163kB 39.4MB/s \n",
            "\u001b[?25hRequirement already satisfied: pytz>=2017.2 in /usr/local/lib/python3.7/dist-packages (from pandas->python-terrier) (2018.9)\n",
            "Requirement already satisfied: python-dateutil>=2.7.3 in /usr/local/lib/python3.7/dist-packages (from pandas->python-terrier) (2.8.1)\n",
            "Requirement already satisfied: six>=1.7.0 in /usr/local/lib/python3.7/dist-packages (from pyjnius~=1.3.0->python-terrier) (1.15.0)\n",
            "Requirement already satisfied: cython in /usr/local/lib/python3.7/dist-packages (from pyjnius~=1.3.0->python-terrier) (0.29.22)\n",
            "Collecting multiset<3.0,>=2.0\n",
            "  Downloading https://files.pythonhosted.org/packages/a8/12/813a649f5bc9801865dc6cda95b8f169f784d996322db192907ebe399064/multiset-2.1.1-py2.py3-none-any.whl\n",
            "Requirement already satisfied: scikit-learn in /usr/local/lib/python3.7/dist-packages (from sklearn->python-terrier) (0.22.2.post1)\n",
            "Requirement already satisfied: packaging in /usr/local/lib/python3.7/dist-packages (from deprecation->python-terrier) (20.9)\n",
            "Requirement already satisfied: heapdict in /usr/local/lib/python3.7/dist-packages (from chest->python-terrier) (1.0.1)\n",
            "Requirement already satisfied: urllib3!=1.25.0,!=1.25.1,<1.26,>=1.21.1 in /usr/local/lib/python3.7/dist-packages (from requests->python-terrier) (1.24.3)\n",
            "Requirement already satisfied: certifi>=2017.4.17 in /usr/local/lib/python3.7/dist-packages (from requests->python-terrier) (2020.12.5)\n",
            "Requirement already satisfied: idna<3,>=2.5 in /usr/local/lib/python3.7/dist-packages (from requests->python-terrier) (2.10)\n",
            "Requirement already satisfied: chardet<4,>=3.0.2 in /usr/local/lib/python3.7/dist-packages (from requests->python-terrier) (3.0.4)\n",
            "Collecting typish>=1.7.0\n",
            "\u001b[?25l  Downloading https://files.pythonhosted.org/packages/48/10/84e80246203f017fd27559b49557753d96cee860754247b7b023fd03d236/typish-1.9.1-py3-none-any.whl (44kB)\n",
            "\u001b[K     |████████████████████████████████| 51kB 5.6MB/s \n",
            "\u001b[?25hRequirement already satisfied: MarkupSafe>=0.23 in /usr/local/lib/python3.7/dist-packages (from jinja2->python-terrier) (1.1.1)\n",
            "Requirement already satisfied: sphinx in /usr/local/lib/python3.7/dist-packages (from sphinx_rtd_theme->python-terrier) (1.8.5)\n",
            "Requirement already satisfied: docutils>=0.15 in /usr/local/lib/python3.7/dist-packages (from myst_parser->python-terrier) (0.16)\n",
            "Collecting mdit-py-plugins~=0.2.5\n",
            "  Downloading https://files.pythonhosted.org/packages/66/62/fae9ee5766a7153d571ad732ef514c552efeaa31735fd60e6d9bc07fa9e4/mdit_py_plugins-0.2.5-py3-none-any.whl\n",
            "Requirement already satisfied: pyyaml in /usr/local/lib/python3.7/dist-packages (from myst_parser->python-terrier) (3.13)\n",
            "Collecting markdown-it-py~=0.6.2\n",
            "\u001b[?25l  Downloading https://files.pythonhosted.org/packages/2e/cb/8493188845d26599170268bb0e0a63e75584d5e7f130488c641e96449cd7/markdown_it_py-0.6.2-py3-none-any.whl (81kB)\n",
            "\u001b[K     |████████████████████████████████| 81kB 7.3MB/s \n",
            "\u001b[?25hCollecting warc3-wet>=0.2.3\n",
            "  Downloading https://files.pythonhosted.org/packages/78/de/017a6bc2e3ba1ad912a08501f58414dd9e8503da1d6239aad548631777ad/warc3_wet-0.2.3-py3-none-any.whl\n",
            "Collecting lxml>=4.5.2\n",
            "\u001b[?25l  Downloading https://files.pythonhosted.org/packages/d2/88/b25778f17e5320c1c58f8c5060fb5b037288e162bd7554c30799e9ea90db/lxml-4.6.2-cp37-cp37m-manylinux1_x86_64.whl (5.5MB)\n",
            "\u001b[K     |████████████████████████████████| 5.5MB 30.4MB/s \n",
            "\u001b[?25hCollecting trec-car-tools>=2.5.3\n",
            "  Downloading https://files.pythonhosted.org/packages/d1/e2/da4e895e5ad519f9f6aa464530dd482c7132c92a55cf178b8132e84b5c1d/trec_car_tools-2.5.4-py3-none-any.whl\n",
            "Requirement already satisfied: beautifulsoup4>=4.4.1 in /usr/local/lib/python3.7/dist-packages (from ir_datasets>=0.2.0->python-terrier) (4.6.3)\n",
            "Collecting lz4>=3.1.1\n",
            "\u001b[?25l  Downloading https://files.pythonhosted.org/packages/e3/52/151c815a486290608e4dc6699a0cfd74141dc5191f8fe928e7d1b28b569e/lz4-3.1.3-cp37-cp37m-manylinux2010_x86_64.whl (1.8MB)\n",
            "\u001b[K     |████████████████████████████████| 1.8MB 36.3MB/s \n",
            "\u001b[?25hCollecting zlib-state>=0.1.3\n",
            "\u001b[?25l  Downloading https://files.pythonhosted.org/packages/69/05/95df36be761a5ff85a39b438d87937f02762c19fea95c0f10b679a259f14/zlib_state-0.1.3-cp37-cp37m-manylinux2010_x86_64.whl (72kB)\n",
            "\u001b[K     |████████████████████████████████| 81kB 5.5MB/s \n",
            "\u001b[?25hCollecting ijson>=3.1.3\n",
            "\u001b[?25l  Downloading https://files.pythonhosted.org/packages/b3/0c/e3b7bf52e23345d5f9a6a3ff6de0cad419c96491893ab60cbbe9161644a8/ijson-3.1.4-cp37-cp37m-manylinux2010_x86_64.whl (126kB)\n",
            "\u001b[K     |████████████████████████████████| 133kB 41.1MB/s \n",
            "\u001b[?25hCollecting warc3-wet-clueweb09>=0.2.5\n",
            "  Downloading https://files.pythonhosted.org/packages/9f/c1/dd817bf57e0274dacb10e0ac868cb6cd70876950cf361c41879c030a2b8b/warc3-wet-clueweb09-0.2.5.tar.gz\n",
            "Requirement already satisfied: joblib>=0.11 in /usr/local/lib/python3.7/dist-packages (from scikit-learn->sklearn->python-terrier) (1.0.1)\n",
            "Requirement already satisfied: pyparsing>=2.0.2 in /usr/local/lib/python3.7/dist-packages (from packaging->deprecation->python-terrier) (2.4.7)\n",
            "Requirement already satisfied: babel!=2.0,>=1.3 in /usr/local/lib/python3.7/dist-packages (from sphinx->sphinx_rtd_theme->python-terrier) (2.9.0)\n",
            "Requirement already satisfied: sphinxcontrib-websupport in /usr/local/lib/python3.7/dist-packages (from sphinx->sphinx_rtd_theme->python-terrier) (1.2.4)\n",
            "Requirement already satisfied: alabaster<0.8,>=0.7 in /usr/local/lib/python3.7/dist-packages (from sphinx->sphinx_rtd_theme->python-terrier) (0.7.12)\n",
            "Requirement already satisfied: setuptools in /usr/local/lib/python3.7/dist-packages (from sphinx->sphinx_rtd_theme->python-terrier) (54.0.0)\n",
            "Requirement already satisfied: imagesize in /usr/local/lib/python3.7/dist-packages (from sphinx->sphinx_rtd_theme->python-terrier) (1.2.0)\n",
            "Requirement already satisfied: snowballstemmer>=1.1 in /usr/local/lib/python3.7/dist-packages (from sphinx->sphinx_rtd_theme->python-terrier) (2.1.0)\n",
            "Requirement already satisfied: Pygments>=2.0 in /usr/local/lib/python3.7/dist-packages (from sphinx->sphinx_rtd_theme->python-terrier) (2.6.1)\n",
            "Requirement already satisfied: attrs<21,>=19 in /usr/local/lib/python3.7/dist-packages (from markdown-it-py~=0.6.2->myst_parser->python-terrier) (20.3.0)\n",
            "Collecting cbor>=1.0.0\n",
            "  Downloading https://files.pythonhosted.org/packages/9b/99/01c6a987c920500189eb74a291bd3a388e6c7cf85736bb6b066d9833315e/cbor-1.0.0.tar.gz\n",
            "Requirement already satisfied: sphinxcontrib-serializinghtml in /usr/local/lib/python3.7/dist-packages (from sphinxcontrib-websupport->sphinx->sphinx_rtd_theme->python-terrier) (1.1.4)\n",
            "Building wheels for collected packages: python-terrier, wget, pytrec-eval, chest, warc3-wet-clueweb09, cbor\n",
            "  Building wheel for python-terrier (setup.py) ... \u001b[?25l\u001b[?25hdone\n",
            "  Created wheel for python-terrier: filename=python_terrier-0.4.0-cp37-none-any.whl size=76208 sha256=ea9368fd828bddaea0d17fa3787195eea3ce8db618ad56aec9c6645e70fd056d\n",
            "  Stored in directory: /root/.cache/pip/wheels/1a/08/00/1eb79fd13e6095132bf00bd92f803e90797813f40429485461\n",
            "  Building wheel for wget (setup.py) ... \u001b[?25l\u001b[?25hdone\n",
            "  Created wheel for wget: filename=wget-3.2-cp37-none-any.whl size=9681 sha256=da38edb11a4aed240a4efef8c892196e9e80e7dbd01c42d1460b0f4c613f0db2\n",
            "  Stored in directory: /root/.cache/pip/wheels/40/15/30/7d8f7cea2902b4db79e3fea550d7d7b85ecb27ef992b618f3f\n",
            "  Building wheel for pytrec-eval (setup.py) ... \u001b[?25l\u001b[?25hdone\n",
            "  Created wheel for pytrec-eval: filename=pytrec_eval-0.5-cp37-cp37m-linux_x86_64.whl size=265117 sha256=8b12af2248f22150db02cdd9e93555219361e5b485fb4961f2965bc2f80994fa\n",
            "  Stored in directory: /root/.cache/pip/wheels/55/66/40/1779aa0a8eb66e088669befe286f695cdfe420ba91ce662127\n",
            "  Building wheel for chest (setup.py) ... \u001b[?25l\u001b[?25hdone\n",
            "  Created wheel for chest: filename=chest-0.2.3-cp37-none-any.whl size=7623 sha256=6c879ab1337c00dd6b1b047d37f83a1473332fbec77b0cf36a6bf217d3e208a8\n",
            "  Stored in directory: /root/.cache/pip/wheels/f9/52/97/3f0eb272609dc1b7a20fb678a45003301b51f03cf766f6237f\n",
            "  Building wheel for warc3-wet-clueweb09 (setup.py) ... \u001b[?25l\u001b[?25hdone\n",
            "  Created wheel for warc3-wet-clueweb09: filename=warc3_wet_clueweb09-0.2.5-cp37-none-any.whl size=18909 sha256=7a03603d834b909f841cdaa82e926187e2b8e612d639b13dfbd2e07028a41cdd\n",
            "  Stored in directory: /root/.cache/pip/wheels/09/da/a9/ec9816edf7f789eab3fea2e57abe37bf7d6ab65f8ef8ee7f31\n",
            "  Building wheel for cbor (setup.py) ... \u001b[?25l\u001b[?25hdone\n",
            "  Created wheel for cbor: filename=cbor-1.0.0-cp37-cp37m-linux_x86_64.whl size=51267 sha256=628613d300147e52aec3c6c771ef2e126b2e83dab34ef3ee7466744f9b014bc1\n",
            "  Stored in directory: /root/.cache/pip/wheels/40/5c/a5/e6d629446a6a687ba328c55f1589234c29b99ef35b1a65dbaa\n",
            "Successfully built python-terrier wget pytrec-eval chest warc3-wet-clueweb09 cbor\n",
            "\u001b[31mERROR: myst-parser 0.13.5 has requirement sphinx<4,>=2, but you'll have sphinx 1.8.5 which is incompatible.\u001b[0m\n",
            "\u001b[31mERROR: ir-datasets 0.3.1 has requirement pyyaml>=5.3.1, but you'll have pyyaml 3.13 which is incompatible.\u001b[0m\n",
            "Installing collected packages: wget, pytrec-eval, pyjnius, multiset, matchpy, deprecation, chest, typish, nptyping, sphinx-rtd-theme, markdown-it-py, mdit-py-plugins, myst-parser, warc3-wet, lxml, cbor, trec-car-tools, lz4, zlib-state, ijson, warc3-wet-clueweb09, ir-datasets, python-terrier\n",
            "  Found existing installation: lxml 4.2.6\n",
            "    Uninstalling lxml-4.2.6:\n",
            "      Successfully uninstalled lxml-4.2.6\n",
            "Successfully installed cbor-1.0.0 chest-0.2.3 deprecation-2.1.0 ijson-3.1.4 ir-datasets-0.3.1 lxml-4.6.2 lz4-3.1.3 markdown-it-py-0.6.2 matchpy-0.5.4 mdit-py-plugins-0.2.5 multiset-2.1.1 myst-parser-0.13.5 nptyping-1.4.0 pyjnius-1.3.0 python-terrier-0.4.0 pytrec-eval-0.5 sphinx-rtd-theme-0.5.1 trec-car-tools-2.5.4 typish-1.9.1 warc3-wet-0.2.3 warc3-wet-clueweb09-0.2.5 wget-3.2 zlib-state-0.1.3\n",
            "Collecting python-terrier\n",
            "  Cloning https://github.com/terrier-org/pyterrier.git to /tmp/pip-install-0zjkdwbg/python-terrier\n",
            "  Running command git clone -q https://github.com/terrier-org/pyterrier.git /tmp/pip-install-0zjkdwbg/python-terrier\n",
            "Requirement already satisfied, skipping upgrade: numpy in /usr/local/lib/python3.7/dist-packages (from python-terrier) (1.19.5)\n",
            "Requirement already satisfied, skipping upgrade: pandas in /usr/local/lib/python3.7/dist-packages (from python-terrier) (1.1.5)\n",
            "Requirement already satisfied, skipping upgrade: wget in /usr/local/lib/python3.7/dist-packages (from python-terrier) (3.2)\n",
            "Requirement already satisfied, skipping upgrade: pytrec_eval>=0.5 in /usr/local/lib/python3.7/dist-packages (from python-terrier) (0.5)\n",
            "Collecting tqdm>=4.57.0\n",
            "\u001b[?25l  Downloading https://files.pythonhosted.org/packages/f8/3e/2730d0effc282960dbff3cf91599ad0d8f3faedc8e75720fdf224b31ab24/tqdm-4.59.0-py2.py3-none-any.whl (74kB)\n",
            "\u001b[K     |████████████████████████████████| 81kB 3.8MB/s \n",
            "\u001b[?25hRequirement already satisfied, skipping upgrade: pyjnius~=1.3.0 in /usr/local/lib/python3.7/dist-packages (from python-terrier) (1.3.0)\n",
            "Requirement already satisfied, skipping upgrade: matchpy in /usr/local/lib/python3.7/dist-packages (from python-terrier) (0.5.4)\n",
            "Requirement already satisfied, skipping upgrade: sklearn in /usr/local/lib/python3.7/dist-packages (from python-terrier) (0.0)\n",
            "Requirement already satisfied, skipping upgrade: deprecation in /usr/local/lib/python3.7/dist-packages (from python-terrier) (2.1.0)\n",
            "Requirement already satisfied, skipping upgrade: chest in /usr/local/lib/python3.7/dist-packages (from python-terrier) (0.2.3)\n",
            "Requirement already satisfied, skipping upgrade: scipy in /usr/local/lib/python3.7/dist-packages (from python-terrier) (1.4.1)\n",
            "Requirement already satisfied, skipping upgrade: requests in /usr/local/lib/python3.7/dist-packages (from python-terrier) (2.23.0)\n",
            "Requirement already satisfied, skipping upgrade: nptyping in /usr/local/lib/python3.7/dist-packages (from python-terrier) (1.4.0)\n",
            "Requirement already satisfied, skipping upgrade: more_itertools in /usr/local/lib/python3.7/dist-packages (from python-terrier) (8.7.0)\n",
            "Requirement already satisfied, skipping upgrade: ir_datasets>=0.2.0 in /usr/local/lib/python3.7/dist-packages (from python-terrier) (0.3.1)\n",
            "Requirement already satisfied, skipping upgrade: jinja2 in /usr/local/lib/python3.7/dist-packages (from python-terrier) (2.11.3)\n",
            "Requirement already satisfied, skipping upgrade: python-dateutil>=2.7.3 in /usr/local/lib/python3.7/dist-packages (from pandas->python-terrier) (2.8.1)\n",
            "Requirement already satisfied, skipping upgrade: pytz>=2017.2 in /usr/local/lib/python3.7/dist-packages (from pandas->python-terrier) (2018.9)\n",
            "Requirement already satisfied, skipping upgrade: cython in /usr/local/lib/python3.7/dist-packages (from pyjnius~=1.3.0->python-terrier) (0.29.22)\n",
            "Requirement already satisfied, skipping upgrade: six>=1.7.0 in /usr/local/lib/python3.7/dist-packages (from pyjnius~=1.3.0->python-terrier) (1.15.0)\n",
            "Requirement already satisfied, skipping upgrade: multiset<3.0,>=2.0 in /usr/local/lib/python3.7/dist-packages (from matchpy->python-terrier) (2.1.1)\n",
            "Requirement already satisfied, skipping upgrade: scikit-learn in /usr/local/lib/python3.7/dist-packages (from sklearn->python-terrier) (0.22.2.post1)\n",
            "Requirement already satisfied, skipping upgrade: packaging in /usr/local/lib/python3.7/dist-packages (from deprecation->python-terrier) (20.9)\n",
            "Requirement already satisfied, skipping upgrade: heapdict in /usr/local/lib/python3.7/dist-packages (from chest->python-terrier) (1.0.1)\n",
            "Requirement already satisfied, skipping upgrade: idna<3,>=2.5 in /usr/local/lib/python3.7/dist-packages (from requests->python-terrier) (2.10)\n",
            "Requirement already satisfied, skipping upgrade: urllib3!=1.25.0,!=1.25.1,<1.26,>=1.21.1 in /usr/local/lib/python3.7/dist-packages (from requests->python-terrier) (1.24.3)\n",
            "Requirement already satisfied, skipping upgrade: chardet<4,>=3.0.2 in /usr/local/lib/python3.7/dist-packages (from requests->python-terrier) (3.0.4)\n",
            "Requirement already satisfied, skipping upgrade: certifi>=2017.4.17 in /usr/local/lib/python3.7/dist-packages (from requests->python-terrier) (2020.12.5)\n",
            "Requirement already satisfied, skipping upgrade: typish>=1.7.0 in /usr/local/lib/python3.7/dist-packages (from nptyping->python-terrier) (1.9.1)\n",
            "Requirement already satisfied, skipping upgrade: beautifulsoup4>=4.4.1 in /usr/local/lib/python3.7/dist-packages (from ir_datasets>=0.2.0->python-terrier) (4.6.3)\n",
            "Requirement already satisfied, skipping upgrade: trec-car-tools>=2.5.3 in /usr/local/lib/python3.7/dist-packages (from ir_datasets>=0.2.0->python-terrier) (2.5.4)\n",
            "Requirement already satisfied, skipping upgrade: warc3-wet>=0.2.3 in /usr/local/lib/python3.7/dist-packages (from ir_datasets>=0.2.0->python-terrier) (0.2.3)\n",
            "Requirement already satisfied, skipping upgrade: ijson>=3.1.3 in /usr/local/lib/python3.7/dist-packages (from ir_datasets>=0.2.0->python-terrier) (3.1.4)\n",
            "Requirement already satisfied, skipping upgrade: warc3-wet-clueweb09>=0.2.5 in /usr/local/lib/python3.7/dist-packages (from ir_datasets>=0.2.0->python-terrier) (0.2.5)\n",
            "Requirement already satisfied, skipping upgrade: zlib-state>=0.1.3 in /usr/local/lib/python3.7/dist-packages (from ir_datasets>=0.2.0->python-terrier) (0.1.3)\n",
            "Collecting pyyaml>=5.3.1\n",
            "\u001b[?25l  Downloading https://files.pythonhosted.org/packages/7a/a5/393c087efdc78091afa2af9f1378762f9821c9c1d7a22c5753fb5ac5f97a/PyYAML-5.4.1-cp37-cp37m-manylinux1_x86_64.whl (636kB)\n",
            "\u001b[K     |████████████████████████████████| 645kB 8.4MB/s \n",
            "\u001b[?25hRequirement already satisfied, skipping upgrade: lz4>=3.1.1 in /usr/local/lib/python3.7/dist-packages (from ir_datasets>=0.2.0->python-terrier) (3.1.3)\n",
            "Requirement already satisfied, skipping upgrade: lxml>=4.5.2 in /usr/local/lib/python3.7/dist-packages (from ir_datasets>=0.2.0->python-terrier) (4.6.2)\n",
            "Requirement already satisfied, skipping upgrade: MarkupSafe>=0.23 in /usr/local/lib/python3.7/dist-packages (from jinja2->python-terrier) (1.1.1)\n",
            "Requirement already satisfied, skipping upgrade: joblib>=0.11 in /usr/local/lib/python3.7/dist-packages (from scikit-learn->sklearn->python-terrier) (1.0.1)\n",
            "Requirement already satisfied, skipping upgrade: pyparsing>=2.0.2 in /usr/local/lib/python3.7/dist-packages (from packaging->deprecation->python-terrier) (2.4.7)\n",
            "Requirement already satisfied, skipping upgrade: cbor>=1.0.0 in /usr/local/lib/python3.7/dist-packages (from trec-car-tools>=2.5.3->ir_datasets>=0.2.0->python-terrier) (1.0.0)\n",
            "Building wheels for collected packages: python-terrier\n",
            "  Building wheel for python-terrier (setup.py) ... \u001b[?25l\u001b[?25hdone\n",
            "  Created wheel for python-terrier: filename=python_terrier-0.4.0-cp37-none-any.whl size=77401 sha256=04507d8fc599fc345c518ebe162ff52ba62e5679d5a8d90310c2f6729f33cdef\n",
            "  Stored in directory: /tmp/pip-ephem-wheel-cache-xrl8uz8k/wheels/cc/bb/69/836d846a92c787b35ca6478119c0033762ab2b95d866eeb288\n",
            "Successfully built python-terrier\n",
            "\u001b[31mERROR: myst-parser 0.13.5 has requirement sphinx<4,>=2, but you'll have sphinx 1.8.5 which is incompatible.\u001b[0m\n",
            "Installing collected packages: tqdm, python-terrier, pyyaml\n",
            "  Found existing installation: tqdm 4.41.1\n",
            "    Uninstalling tqdm-4.41.1:\n",
            "      Successfully uninstalled tqdm-4.41.1\n",
            "  Found existing installation: python-terrier 0.4.0\n",
            "    Uninstalling python-terrier-0.4.0:\n",
            "      Successfully uninstalled python-terrier-0.4.0\n",
            "  Found existing installation: PyYAML 3.13\n",
            "    Uninstalling PyYAML-3.13:\n",
            "      Successfully uninstalled PyYAML-3.13\n",
            "Successfully installed python-terrier-0.4.0 pyyaml-5.4.1 tqdm-4.59.0\n"
          ],
          "name": "stdout"
        }
      ]
    },
    {
      "cell_type": "code",
      "metadata": {
        "id": "O8yxoXOy__9_"
      },
      "source": [
        "#importing libraries and global variables\n",
        "import pandas as pd\n",
        "import numpy as np\n",
        "from glob import glob\n",
        "import re\n",
        "from os import listdir\n",
        "from collections import Counter\n",
        "import pyterrier as pt"
      ],
      "execution_count": null,
      "outputs": []
    },
    {
      "cell_type": "code",
      "metadata": {
        "id": "oDc7BRs_AMjo"
      },
      "source": [
        "directories = []\n",
        "for i in glob(\"/content/drive/MyDrive/IR/masc_500k_texts/masc_500k_texts/*/\"):\n",
        "  for j in glob(i+'*/'):\n",
        "    directories.append(j)\n",
        "\n",
        "data = []\n",
        "for i in directories:\n",
        "  for j in listdir(i):\n",
        "    with open(i+j, \"r\") as f:\n",
        "      try:\n",
        "        d = {'fileName': j, \n",
        "             'text': f.read()}\n",
        "        data.append(d)\n",
        "      except:\n",
        "        continue"
      ],
      "execution_count": null,
      "outputs": []
    },
    {
      "cell_type": "code",
      "metadata": {
        "colab": {
          "base_uri": "https://localhost:8080/"
        },
        "id": "262nNqxSAP2W",
        "outputId": "b5703ba6-2617-49c6-fedd-76204a62ec82"
      },
      "source": [
        "len(data)"
      ],
      "execution_count": null,
      "outputs": [
        {
          "output_type": "execute_result",
          "data": {
            "text/plain": [
              "390"
            ]
          },
          "metadata": {
            "tags": []
          },
          "execution_count": 4
        }
      ]
    },
    {
      "cell_type": "code",
      "metadata": {
        "id": "jD5ue0PMAQ66"
      },
      "source": [
        "#we need just the words. so remove all the special characters\n",
        "regex = r\"@\\S+|https?:\\S+|http?:\\S|[^A-Za-z0-9 '.]+\" #anything that is not a number or alphabet\n",
        "words = []\n",
        "for i in data:\n",
        "  i['text'] = re.sub(regex,' ',i['text'].lower())\n",
        "  for j in i['text'].split():\n",
        "    words.append(j.lower())\n",
        "\n",
        "words = list(set(words))"
      ],
      "execution_count": null,
      "outputs": []
    },
    {
      "cell_type": "code",
      "metadata": {
        "colab": {
          "base_uri": "https://localhost:8080/"
        },
        "id": "mGwZiSHmAU3G",
        "outputId": "b9eb602f-ebc0-4c87-8aff-fbb88c61ed4b"
      },
      "source": [
        "len(words)"
      ],
      "execution_count": null,
      "outputs": [
        {
          "output_type": "execute_result",
          "data": {
            "text/plain": [
              "38311"
            ]
          },
          "metadata": {
            "tags": []
          },
          "execution_count": 6
        }
      ]
    },
    {
      "cell_type": "markdown",
      "metadata": {
        "id": "zSJzyMjzAX2Q"
      },
      "source": [
        "#pyterrier"
      ]
    },
    {
      "cell_type": "code",
      "metadata": {
        "colab": {
          "base_uri": "https://localhost:8080/"
        },
        "id": "d8vUpp3NISK9",
        "outputId": "54377fde-74ce-4d40-b99c-7aaa07924629"
      },
      "source": [
        "if not pt.started():\n",
        "  pt.init()\n",
        "!rm -rf ./iter_index\n",
        "iter_indexer = pt.IterDictIndexer(\"./iter_index\")"
      ],
      "execution_count": null,
      "outputs": [
        {
          "output_type": "stream",
          "text": [
            "terrier-assemblies 5.4  jar-with-dependencies not found, downloading to /root/.pyterrier...\n",
            "Done\n",
            "terrier-python-helper 0.0.5  jar not found, downloading to /root/.pyterrier...\n",
            "Done\n",
            "PyTerrier 0.4.0 has loaded Terrier 5.4 (built by craigm on 2021-01-16 14:17)\n"
          ],
          "name": "stdout"
        }
      ]
    },
    {
      "cell_type": "code",
      "metadata": {
        "id": "a8KERGifKd8S"
      },
      "source": [
        "def antique_doc_iter():\n",
        "  for i, d in enumerate(data):\n",
        "      yield {'docno': i, 'text': d['text'], 'title': d['fileName'],}"
      ],
      "execution_count": null,
      "outputs": []
    },
    {
      "cell_type": "code",
      "metadata": {
        "id": "Oapmj4V5KwD9"
      },
      "source": [
        "doc_iter = antique_doc_iter()\n",
        "indexref = iter_indexer.index(doc_iter)"
      ],
      "execution_count": null,
      "outputs": []
    },
    {
      "cell_type": "code",
      "metadata": {
        "id": "tZ7GtdAnKxzk",
        "colab": {
          "base_uri": "https://localhost:8080/"
        },
        "outputId": "eb55a4f8-500a-4ea8-e886-4fa922bde36c"
      },
      "source": [
        "indexref"
      ],
      "execution_count": null,
      "outputs": [
        {
          "output_type": "execute_result",
          "data": {
            "text/plain": [
              "<org.terrier.querying.IndexRef at 0x7f79d91883b0 jclass=org/terrier/querying/IndexRef jself=<LocalRef obj=0x55dcd37e2350 at 0x7f79d91d76d0>>"
            ]
          },
          "metadata": {
            "tags": []
          },
          "execution_count": 10
        }
      ]
    },
    {
      "cell_type": "code",
      "metadata": {
        "id": "MTl4vIWVLI0z",
        "colab": {
          "base_uri": "https://localhost:8080/",
          "height": 608
        },
        "outputId": "15892ee4-b9f2-4ed2-9cc5-5981a82bb463"
      },
      "source": [
        "pt.BatchRetrieve(indexref).transform(\"presidential election\")"
      ],
      "execution_count": null,
      "outputs": [
        {
          "output_type": "stream",
          "text": [
            "/usr/local/lib/python3.7/dist-packages/ipykernel_launcher.py:1: FutureWarning: .transform() should be passed a dataframe. Use .search() to execute a single query.\n",
            "  \"\"\"Entry point for launching an IPython kernel.\n"
          ],
          "name": "stderr"
        },
        {
          "output_type": "execute_result",
          "data": {
            "text/html": [
              "<div>\n",
              "<style scoped>\n",
              "    .dataframe tbody tr th:only-of-type {\n",
              "        vertical-align: middle;\n",
              "    }\n",
              "\n",
              "    .dataframe tbody tr th {\n",
              "        vertical-align: top;\n",
              "    }\n",
              "\n",
              "    .dataframe thead th {\n",
              "        text-align: right;\n",
              "    }\n",
              "</style>\n",
              "<table border=\"1\" class=\"dataframe\">\n",
              "  <thead>\n",
              "    <tr style=\"text-align: right;\">\n",
              "      <th></th>\n",
              "      <th>qid</th>\n",
              "      <th>docid</th>\n",
              "      <th>docno</th>\n",
              "      <th>rank</th>\n",
              "      <th>score</th>\n",
              "      <th>query</th>\n",
              "    </tr>\n",
              "  </thead>\n",
              "  <tbody>\n",
              "    <tr>\n",
              "      <th>0</th>\n",
              "      <td>1</td>\n",
              "      <td>1</td>\n",
              "      <td>1</td>\n",
              "      <td>0</td>\n",
              "      <td>6.154093</td>\n",
              "      <td>presidential election</td>\n",
              "    </tr>\n",
              "    <tr>\n",
              "      <th>1</th>\n",
              "      <td>1</td>\n",
              "      <td>0</td>\n",
              "      <td>0</td>\n",
              "      <td>1</td>\n",
              "      <td>5.584976</td>\n",
              "      <td>presidential election</td>\n",
              "    </tr>\n",
              "    <tr>\n",
              "      <th>2</th>\n",
              "      <td>1</td>\n",
              "      <td>144</td>\n",
              "      <td>144</td>\n",
              "      <td>2</td>\n",
              "      <td>4.894075</td>\n",
              "      <td>presidential election</td>\n",
              "    </tr>\n",
              "    <tr>\n",
              "      <th>3</th>\n",
              "      <td>1</td>\n",
              "      <td>213</td>\n",
              "      <td>213</td>\n",
              "      <td>3</td>\n",
              "      <td>4.674847</td>\n",
              "      <td>presidential election</td>\n",
              "    </tr>\n",
              "    <tr>\n",
              "      <th>4</th>\n",
              "      <td>1</td>\n",
              "      <td>166</td>\n",
              "      <td>166</td>\n",
              "      <td>4</td>\n",
              "      <td>4.324482</td>\n",
              "      <td>presidential election</td>\n",
              "    </tr>\n",
              "    <tr>\n",
              "      <th>5</th>\n",
              "      <td>1</td>\n",
              "      <td>240</td>\n",
              "      <td>240</td>\n",
              "      <td>5</td>\n",
              "      <td>4.128922</td>\n",
              "      <td>presidential election</td>\n",
              "    </tr>\n",
              "    <tr>\n",
              "      <th>6</th>\n",
              "      <td>1</td>\n",
              "      <td>95</td>\n",
              "      <td>95</td>\n",
              "      <td>6</td>\n",
              "      <td>3.532532</td>\n",
              "      <td>presidential election</td>\n",
              "    </tr>\n",
              "    <tr>\n",
              "      <th>7</th>\n",
              "      <td>1</td>\n",
              "      <td>295</td>\n",
              "      <td>295</td>\n",
              "      <td>7</td>\n",
              "      <td>3.493741</td>\n",
              "      <td>presidential election</td>\n",
              "    </tr>\n",
              "    <tr>\n",
              "      <th>8</th>\n",
              "      <td>1</td>\n",
              "      <td>67</td>\n",
              "      <td>67</td>\n",
              "      <td>8</td>\n",
              "      <td>3.271193</td>\n",
              "      <td>presidential election</td>\n",
              "    </tr>\n",
              "    <tr>\n",
              "      <th>9</th>\n",
              "      <td>1</td>\n",
              "      <td>136</td>\n",
              "      <td>136</td>\n",
              "      <td>9</td>\n",
              "      <td>3.244861</td>\n",
              "      <td>presidential election</td>\n",
              "    </tr>\n",
              "    <tr>\n",
              "      <th>10</th>\n",
              "      <td>1</td>\n",
              "      <td>47</td>\n",
              "      <td>47</td>\n",
              "      <td>10</td>\n",
              "      <td>2.737405</td>\n",
              "      <td>presidential election</td>\n",
              "    </tr>\n",
              "    <tr>\n",
              "      <th>11</th>\n",
              "      <td>1</td>\n",
              "      <td>120</td>\n",
              "      <td>120</td>\n",
              "      <td>11</td>\n",
              "      <td>2.227849</td>\n",
              "      <td>presidential election</td>\n",
              "    </tr>\n",
              "    <tr>\n",
              "      <th>12</th>\n",
              "      <td>1</td>\n",
              "      <td>130</td>\n",
              "      <td>130</td>\n",
              "      <td>12</td>\n",
              "      <td>1.849991</td>\n",
              "      <td>presidential election</td>\n",
              "    </tr>\n",
              "    <tr>\n",
              "      <th>13</th>\n",
              "      <td>1</td>\n",
              "      <td>256</td>\n",
              "      <td>256</td>\n",
              "      <td>13</td>\n",
              "      <td>1.707367</td>\n",
              "      <td>presidential election</td>\n",
              "    </tr>\n",
              "    <tr>\n",
              "      <th>14</th>\n",
              "      <td>1</td>\n",
              "      <td>109</td>\n",
              "      <td>109</td>\n",
              "      <td>14</td>\n",
              "      <td>1.354182</td>\n",
              "      <td>presidential election</td>\n",
              "    </tr>\n",
              "    <tr>\n",
              "      <th>15</th>\n",
              "      <td>1</td>\n",
              "      <td>257</td>\n",
              "      <td>257</td>\n",
              "      <td>15</td>\n",
              "      <td>0.625024</td>\n",
              "      <td>presidential election</td>\n",
              "    </tr>\n",
              "    <tr>\n",
              "      <th>16</th>\n",
              "      <td>1</td>\n",
              "      <td>196</td>\n",
              "      <td>196</td>\n",
              "      <td>16</td>\n",
              "      <td>0.407278</td>\n",
              "      <td>presidential election</td>\n",
              "    </tr>\n",
              "  </tbody>\n",
              "</table>\n",
              "</div>"
            ],
            "text/plain": [
              "   qid  docid docno  rank     score                  query\n",
              "0    1      1     1     0  6.154093  presidential election\n",
              "1    1      0     0     1  5.584976  presidential election\n",
              "2    1    144   144     2  4.894075  presidential election\n",
              "3    1    213   213     3  4.674847  presidential election\n",
              "4    1    166   166     4  4.324482  presidential election\n",
              "5    1    240   240     5  4.128922  presidential election\n",
              "6    1     95    95     6  3.532532  presidential election\n",
              "7    1    295   295     7  3.493741  presidential election\n",
              "8    1     67    67     8  3.271193  presidential election\n",
              "9    1    136   136     9  3.244861  presidential election\n",
              "10   1     47    47    10  2.737405  presidential election\n",
              "11   1    120   120    11  2.227849  presidential election\n",
              "12   1    130   130    12  1.849991  presidential election\n",
              "13   1    256   256    13  1.707367  presidential election\n",
              "14   1    109   109    14  1.354182  presidential election\n",
              "15   1    257   257    15  0.625024  presidential election\n",
              "16   1    196   196    16  0.407278  presidential election"
            ]
          },
          "metadata": {
            "tags": []
          },
          "execution_count": 15
        }
      ]
    },
    {
      "cell_type": "code",
      "metadata": {
        "id": "iLqX8NuOSawc"
      },
      "source": [
        "def search(query):\n",
        "  results = []\n",
        "  docno = [int(k) for k in pt.BatchRetrieve(indexref).transform(query).docno]\n",
        "  doc_iter = antique_doc_iter()\n",
        "  for i in range(len(docno)):\n",
        "    results.append(next({'docno':item['docno'],'file':item['title']} for item in doc_iter if item[\"docno\"] in docno))\n",
        "  return results"
      ],
      "execution_count": null,
      "outputs": []
    },
    {
      "cell_type": "code",
      "metadata": {
        "id": "djtyWj6rTV17",
        "colab": {
          "base_uri": "https://localhost:8080/"
        },
        "outputId": "d5e8e963-8359-4518-9448-049cd5dafcaa"
      },
      "source": [
        "results = search('presidential election')"
      ],
      "execution_count": null,
      "outputs": [
        {
          "output_type": "stream",
          "text": [
            "/usr/local/lib/python3.7/dist-packages/ipykernel_launcher.py:3: FutureWarning: .transform() should be passed a dataframe. Use .search() to execute a single query.\n",
            "  This is separate from the ipykernel package so we can avoid doing imports until\n"
          ],
          "name": "stderr"
        }
      ]
    },
    {
      "cell_type": "code",
      "metadata": {
        "id": "GxAWW59tTZ3w",
        "colab": {
          "base_uri": "https://localhost:8080/"
        },
        "outputId": "fb9ebfd6-dccb-481d-aad7-7a016570e314"
      },
      "source": [
        "results"
      ],
      "execution_count": null,
      "outputs": [
        {
          "output_type": "execute_result",
          "data": {
            "text/plain": [
              "[{'docno': 0, 'file': '2nd_Gore-Bush.txt'},\n",
              " {'docno': 1, 'file': '3rd_Bush-Kerry.txt'},\n",
              " {'docno': 47, 'file': 'lists-003-2114716.txt'},\n",
              " {'docno': 67, 'file': '9085.txt'},\n",
              " {'docno': 95, 'file': 'chapter-10.txt'},\n",
              " {'docno': 109, 'file': '1400.txt'},\n",
              " {'docno': 120, 'file': 'Effing-Idiot.txt'},\n",
              " {'docno': 130, 'file': 'Fermentation_Eminent-Domain.txt'},\n",
              " {'docno': 136, 'file': 'A_defense_of_Michael_Moore.txt'},\n",
              " {'docno': 144, 'file': 'wsj_0120.txt'},\n",
              " {'docno': 166, 'file': '20020731-nyt.txt'},\n",
              " {'docno': 196, 'file': 'pirates.txt'},\n",
              " {'docno': 213, 'file': 'appalachian1.txt'},\n",
              " {'docno': 240, 'file': 'defenders5.txt'},\n",
              " {'docno': 256, 'file': 'tweets1.txt'},\n",
              " {'docno': 257, 'file': 'tweets2.txt'},\n",
              " {'docno': 295, 'file': '111348.txt'}]"
            ]
          },
          "metadata": {
            "tags": []
          },
          "execution_count": 23
        }
      ]
    },
    {
      "cell_type": "code",
      "metadata": {
        "id": "FjBMnx5BU6Oa"
      },
      "source": [
        ""
      ],
      "execution_count": null,
      "outputs": []
    }
  ]
}